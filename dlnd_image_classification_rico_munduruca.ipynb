{
 "cells": [
  {
   "cell_type": "markdown",
   "metadata": {
    "collapsed": true
   },
   "source": [
    "# Image Classification\n",
    "In this project, you'll classify images from the [CIFAR-10 dataset](https://www.cs.toronto.edu/~kriz/cifar.html).  The dataset consists of airplanes, dogs, cats, and other objects. You'll preprocess the images, then train a convolutional neural network on all the samples. The images need to be normalized and the labels need to be one-hot encoded.  You'll get to apply what you learned and build a convolutional, max pooling, dropout, and fully connected layers.  At the end, you'll get to see your neural network's predictions on the sample images.\n",
    "## Get the Data\n",
    "Run the following cell to download the [CIFAR-10 dataset for python](https://www.cs.toronto.edu/~kriz/cifar-10-python.tar.gz)."
   ]
  },
  {
   "cell_type": "code",
   "execution_count": 2,
   "metadata": {
    "collapsed": false
   },
   "outputs": [
    {
     "name": "stdout",
     "output_type": "stream",
     "text": [
      "All files found!\n"
     ]
    }
   ],
   "source": [
    "\"\"\"\n",
    "DON'T MODIFY ANYTHING IN THIS CELL THAT IS BELOW THIS LINE\n",
    "\"\"\"\n",
    "from urllib.request import urlretrieve\n",
    "from os.path import isfile, isdir\n",
    "from tqdm import tqdm\n",
    "import problem_unittests as tests\n",
    "import tarfile\n",
    "\n",
    "cifar10_dataset_folder_path = 'cifar-10-batches-py'\n",
    "\n",
    "# Use Floyd's cifar-10 dataset if present\n",
    "floyd_cifar10_location = '/input/cifar-10/python.tar.gz'\n",
    "if isfile(floyd_cifar10_location):\n",
    "    tar_gz_path = floyd_cifar10_location\n",
    "else:\n",
    "    tar_gz_path = 'cifar-10-python.tar.gz'\n",
    "\n",
    "class DLProgress(tqdm):\n",
    "    last_block = 0\n",
    "\n",
    "    def hook(self, block_num=1, block_size=1, total_size=None):\n",
    "        self.total = total_size\n",
    "        self.update((block_num - self.last_block) * block_size)\n",
    "        self.last_block = block_num\n",
    "\n",
    "if not isfile(tar_gz_path):\n",
    "    with DLProgress(unit='B', unit_scale=True, miniters=1, desc='CIFAR-10 Dataset') as pbar:\n",
    "        urlretrieve(\n",
    "            'https://www.cs.toronto.edu/~kriz/cifar-10-python.tar.gz',\n",
    "            tar_gz_path,\n",
    "            pbar.hook)\n",
    "\n",
    "if not isdir(cifar10_dataset_folder_path):\n",
    "    with tarfile.open(tar_gz_path) as tar:\n",
    "        tar.extractall()\n",
    "        tar.close()\n",
    "\n",
    "\n",
    "tests.test_folder_path(cifar10_dataset_folder_path)"
   ]
  },
  {
   "cell_type": "markdown",
   "metadata": {},
   "source": [
    "## Explore the Data\n",
    "The dataset is broken into batches to prevent your machine from running out of memory.  The CIFAR-10 dataset consists of 5 batches, named `data_batch_1`, `data_batch_2`, etc.. Each batch contains the labels and images that are one of the following:\n",
    "* airplane\n",
    "* automobile\n",
    "* bird\n",
    "* cat\n",
    "* deer\n",
    "* dog\n",
    "* frog\n",
    "* horse\n",
    "* ship\n",
    "* truck\n",
    "\n",
    "Understanding a dataset is part of making predictions on the data.  Play around with the code cell below by changing the `batch_id` and `sample_id`. The `batch_id` is the id for a batch (1-5). The `sample_id` is the id for a image and label pair in the batch.\n",
    "\n",
    "Ask yourself \"What are all possible labels?\", \"What is the range of values for the image data?\", \"Are the labels in order or random?\".  Answers to questions like these will help you preprocess the data and end up with better predictions."
   ]
  },
  {
   "cell_type": "code",
   "execution_count": 3,
   "metadata": {
    "collapsed": false
   },
   "outputs": [
    {
     "name": "stdout",
     "output_type": "stream",
     "text": [
      "\n",
      "Stats of batch 1:\n",
      "Samples: 10000\n",
      "Label Counts: {0: 1005, 1: 974, 2: 1032, 3: 1016, 4: 999, 5: 937, 6: 1030, 7: 1001, 8: 1025, 9: 981}\n",
      "First 20 Labels: [6, 9, 9, 4, 1, 1, 2, 7, 8, 3, 4, 7, 7, 2, 9, 9, 9, 3, 2, 6]\n",
      "\n",
      "Example of Image 5:\n",
      "Image - Min Value: 0 Max Value: 252\n",
      "Image - Shape: (32, 32, 3)\n",
      "Label - Label Id: 1 Name: automobile\n"
     ]
    },
    {
     "data": {
      "image/png": "[encoded data removed]",
      "text/plain": [
       "<matplotlib.figure.Figure at 0x115634dd8>"
      ]
     },
     "metadata": {
      "image/png": {
       "height": 250,
       "width": 253
      }
     },
     "output_type": "display_data"
    }
   ],
   "source": [
    "%matplotlib inline\n",
    "%config InlineBackend.figure_format = 'retina'\n",
    "\n",
    "import helper\n",
    "import numpy as np\n",
    "\n",
    "# Explore the dataset\n",
    "batch_id = 1\n",
    "sample_id = 5\n",
    "helper.display_stats(cifar10_dataset_folder_path, batch_id, sample_id)"
   ]
  },
  {
   "cell_type": "markdown",
   "metadata": {},
   "source": [
    "## Implement Preprocess Functions\n",
    "### Normalize\n",
    "In the cell below, implement the `normalize` function to take in image data, `x`, and return it as a normalized Numpy array. The values should be in the range of 0 to 1, inclusive.  The return object should be the same shape as `x`."
   ]
  },
  {
   "cell_type": "code",
   "execution_count": 4,
   "metadata": {
    "collapsed": false
   },
   "outputs": [
    {
     "name": "stdout",
     "output_type": "stream",
     "text": [
      "Tests Passed\n"
     ]
    }
   ],
   "source": [
    "def normalize(x):\n",
    "    \"\"\"\n",
    "    Normalize a list of sample image data in the range of 0 to 1\n",
    "    : x: List of image data.  The image shape is (32, 32, 3)\n",
    "    : return: Numpy array of normalize data\n",
    "    \"\"\"\n",
    "    # TODO: Implement Function\n",
    "    normal_array = x/255\n",
    "    \n",
    "    return normal_array\n",
    "\n",
    "\n",
    "\"\"\"\n",
    "DON'T MODIFY ANYTHING IN THIS CELL THAT IS BELOW THIS LINE\n",
    "\"\"\"\n",
    "tests.test_normalize(normalize)"
   ]
  },
  {
   "cell_type": "markdown",
   "metadata": {},
   "source": [
    "### One-hot encode\n",
    "Just like the previous code cell, you'll be implementing a function for preprocessing.  This time, you'll implement the `one_hot_encode` function. The input, `x`, are a list of labels.  Implement the function to return the list of labels as One-Hot encoded Numpy array.  The possible values for labels are 0 to 9. The one-hot encoding function should return the same encoding for each value between each call to `one_hot_encode`.  Make sure to save the map of encodings outside the function.\n",
    "\n",
    "Hint: Don't reinvent the wheel."
   ]
  },
  {
   "cell_type": "code",
   "execution_count": 7,
   "metadata": {
    "collapsed": false
   },
   "outputs": [
    {
     "name": "stdout",
     "output_type": "stream",
     "text": [
      "Tests Passed\n"
     ]
    }
   ],
   "source": [
    "import pandas as pd\n",
    "import numpy as np\n",
    "from sklearn.preprocessing import OneHotEncoder\n",
    "\n",
    "labels_range = pd.get_dummies([0,1,2,3,4,5,6,7,8,9])\n",
    "\n",
    "def one_hot_encode(x):\n",
    "    \"\"\"\n",
    "    One hot encode a list of sample labels. Return a one-hot encoded \n",
    "    vector for each label.\n",
    "    : x: List of sample Labels\n",
    "    : return: Numpy array of one-hot encoded labels\n",
    "    \"\"\"\n",
    "    # TODO: Implement Function    \n",
    "    \n",
    "    one_hot = np.zeros((len(x),10))\n",
    "    for i in range(len(x)):\n",
    "        one_hot[i] = labels_range[x[i]]\n",
    "    \n",
    "    return one_hot\n",
    "\n",
    "\n",
    "\"\"\"\n",
    "DON'T MODIFY ANYTHING IN THIS CELL THAT IS BELOW THIS LINE\n",
    "\"\"\"\n",
    "tests.test_one_hot_encode(one_hot_encode)"
   ]
  },
  {
   "cell_type": "markdown",
   "metadata": {},
   "source": [
    "### Randomize Data\n",
    "As you saw from exploring the data above, the order of the samples are randomized.  It doesn't hurt to randomize it again, but you don't need to for this dataset."
   ]
  },
  {
   "cell_type": "markdown",
   "metadata": {},
   "source": [
    "## Preprocess all the data and save it\n",
    "Running the code cell below will preprocess all the CIFAR-10 data and save it to file. The code below also uses 10% of the training data for validation."
   ]
  },
  {
   "cell_type": "code",
   "execution_count": 8,
   "metadata": {
    "collapsed": false
   },
   "outputs": [],
   "source": [
    "\"\"\"\n",
    "DON'T MODIFY ANYTHING IN THIS CELL\n",
    "\"\"\"\n",
    "# Preprocess Training, Validation, and Testing Data\n",
    "helper.preprocess_and_save_data(cifar10_dataset_folder_path, normalize, one_hot_encode)"
   ]
  },
  {
   "cell_type": "markdown",
   "metadata": {},
   "source": [
    "# Check Point\n",
    "This is your first checkpoint.  If you ever decide to come back to this notebook or have to restart the notebook, you can start from here.  The preprocessed data has been saved to disk."
   ]
  },
  {
   "cell_type": "code",
   "execution_count": 9,
   "metadata": {
    "collapsed": true
   },
   "outputs": [],
   "source": [
    "\"\"\"\n",
    "DON'T MODIFY ANYTHING IN THIS CELL\n",
    "\"\"\"\n",
    "import pickle\n",
    "import problem_unittests as tests\n",
    "import helper\n",
    "\n",
    "# Load the Preprocessed Validation data\n",
    "valid_features, valid_labels = pickle.load(open('preprocess_validation.p', mode='rb'))"
   ]
  },
  {
   "cell_type": "markdown",
   "metadata": {},
   "source": [
    "## Build the network\n",
    "For the neural network, you'll build each layer into a function.  Most of the code you've seen has been outside of functions. To test your code more thoroughly, we require that you put each layer in a function.  This allows us to give you better feedback and test for simple mistakes using our unittests before you submit your project.\n",
    "\n",
    ">**Note:** If you're finding it hard to dedicate enough time for this course each week, we've provided a small shortcut to this part of the project. In the next couple of problems, you'll have the option to use classes from the [TensorFlow Layers](https://www.tensorflow.org/api_docs/python/tf/layers) or [TensorFlow Layers (contrib)](https://www.tensorflow.org/api_guides/python/contrib.layers) packages to build each layer, except the layers you build in the \"Convolutional and Max Pooling Layer\" section.  TF Layers is similar to Keras's and TFLearn's abstraction to layers, so it's easy to pickup.\n",
    "\n",
    ">However, if you would like to get the most out of this course, try to solve all the problems _without_ using anything from the TF Layers packages. You **can** still use classes from other packages that happen to have the same name as ones you find in TF Layers! For example, instead of using the TF Layers version of the `conv2d` class, [tf.layers.conv2d](https://www.tensorflow.org/api_docs/python/tf/layers/conv2d), you would want to use the TF Neural Network version of `conv2d`, [tf.nn.conv2d](https://www.tensorflow.org/api_docs/python/tf/nn/conv2d). \n",
    "\n",
    "Let's begin!\n",
    "\n",
    "### Input\n",
    "The neural network needs to read the image data, one-hot encoded labels, and dropout keep probability. Implement the following functions\n",
    "* Implement `neural_net_image_input`\n",
    " * Return a [TF Placeholder](https://www.tensorflow.org/api_docs/python/tf/placeholder)\n",
    " * Set the shape using `image_shape` with batch size set to `None`.\n",
    " * Name the TensorFlow placeholder \"x\" using the TensorFlow `name` parameter in the [TF Placeholder](https://www.tensorflow.org/api_docs/python/tf/placeholder).\n",
    "* Implement `neural_net_label_input`\n",
    " * Return a [TF Placeholder](https://www.tensorflow.org/api_docs/python/tf/placeholder)\n",
    " * Set the shape using `n_classes` with batch size set to `None`.\n",
    " * Name the TensorFlow placeholder \"y\" using the TensorFlow `name` parameter in the [TF Placeholder](https://www.tensorflow.org/api_docs/python/tf/placeholder).\n",
    "* Implement `neural_net_keep_prob_input`\n",
    " * Return a [TF Placeholder](https://www.tensorflow.org/api_docs/python/tf/placeholder) for dropout keep probability.\n",
    " * Name the TensorFlow placeholder \"keep_prob\" using the TensorFlow `name` parameter in the [TF Placeholder](https://www.tensorflow.org/api_docs/python/tf/placeholder).\n",
    "\n",
    "These names will be used at the end of the project to load your saved model.\n",
    "\n",
    "Note: `None` for shapes in TensorFlow allow for a dynamic size."
   ]
  },
  {
   "cell_type": "code",
   "execution_count": 12,
   "metadata": {
    "collapsed": false
   },
   "outputs": [
    {
     "name": "stdout",
     "output_type": "stream",
     "text": [
      "Image Input Tests Passed.\n",
      "Label Input Tests Passed.\n",
      "Keep Prob Tests Passed.\n"
     ]
    }
   ],
   "source": [
    "import tensorflow as tf\n",
    "\n",
    "def neural_net_image_input(image_shape):\n",
    "    \"\"\"\n",
    "    Return a Tensor for a batch of image input\n",
    "    : image_shape: Shape of the images\n",
    "    : return: Tensor for image input.\n",
    "    \"\"\"\n",
    "    # TODO: Implement Function\n",
    "    height = image_shape[0]\n",
    "    width = image_shape[1]\n",
    "    \n",
    "    return tf.placeholder(tf.float32, \n",
    "                          [None, height, width, image_shape[2]], \n",
    "                          name='x')\n",
    "\n",
    "\n",
    "def neural_net_label_input(n_classes):\n",
    "    \"\"\"\n",
    "    Return a Tensor for a batch of label input\n",
    "    : n_classes: Number of classes\n",
    "    : return: Tensor for label input.\n",
    "    \"\"\"\n",
    "    # TODO: Implement Function\n",
    "    tensor_for_label_input = tf.placeholder(tf.float32, \n",
    "                                            [None, n_classes],\n",
    "                                           name='y')\n",
    "    return tensor_for_label_input\n",
    "\n",
    "\n",
    "def neural_net_keep_prob_input():\n",
    "    \"\"\"\n",
    "    Return a Tensor for keep probability\n",
    "    : return: Tensor for keep probability.\n",
    "    \"\"\"\n",
    "    # TODO: Implement Function\n",
    "    keep_probs = tf.placeholder(tf.float32,\n",
    "                                name='keep_prob')\n",
    "    return keep_probs \n",
    "\n",
    "\n",
    "\"\"\"\n",
    "DON'T MODIFY ANYTHING IN THIS CELL THAT IS BELOW THIS LINE\n",
    "\"\"\"\n",
    "tf.reset_default_graph()\n",
    "tests.test_nn_image_inputs(neural_net_image_input)\n",
    "tests.test_nn_label_inputs(neural_net_label_input)\n",
    "tests.test_nn_keep_prob_inputs(neural_net_keep_prob_input)"
   ]
  },
  {
   "cell_type": "markdown",
   "metadata": {},
   "source": [
    "### Convolution and Max Pooling Layer\n",
    "Convolution layers have a lot of success with images. For this code cell, you should implement the function `conv2d_maxpool` to apply convolution then max pooling:\n",
    "* Create the weight and bias using `conv_ksize`, `conv_num_outputs` and the shape of `x_tensor`.\n",
    "* Apply a convolution to `x_tensor` using weight and `conv_strides`.\n",
    " * We recommend you use same padding, but you're welcome to use any padding.\n",
    "* Add bias\n",
    "* Add a nonlinear activation to the convolution.\n",
    "* Apply Max Pooling using `pool_ksize` and `pool_strides`.\n",
    " * We recommend you use same padding, but you're welcome to use any padding.\n",
    "\n",
    "**Note:** You **can't** use [TensorFlow Layers](https://www.tensorflow.org/api_docs/python/tf/layers) or [TensorFlow Layers (contrib)](https://www.tensorflow.org/api_guides/python/contrib.layers) for **this** layer, but you can still use TensorFlow's [Neural Network](https://www.tensorflow.org/api_docs/python/tf/nn) package. You may still use the shortcut option for all the **other** layers."
   ]
  },
  {
   "cell_type": "code",
   "execution_count": 13,
   "metadata": {
    "collapsed": false
   },
   "outputs": [
    {
     "name": "stdout",
     "output_type": "stream",
     "text": [
      "Tests Passed\n"
     ]
    }
   ],
   "source": [
    "def conv2d_maxpool(x_tensor, conv_num_outputs, conv_ksize, conv_strides, pool_ksize, pool_strides):\n",
    "    \"\"\"\n",
    "    Apply convolution then max pooling to x_tensor\n",
    "    :param x_tensor: TensorFlow Tensor\n",
    "    :param conv_num_outputs: Number of outputs for the convolutional layer\n",
    "    :param conv_ksize: kernal size 2-D Tuple for the convolutional layer\n",
    "    :param conv_strides: Stride 2-D Tuple for convolution\n",
    "    :param pool_ksize: kernal size 2-D Tuple for pool\n",
    "    :param pool_strides: Stride 2-D Tuple for pool\n",
    "    : return: A tensor that represents convolution and max pooling of x_tensor\n",
    "    \"\"\"\n",
    "    # TODO: Implement Function\n",
    "    weight = tf.Variable(tf.random_normal([conv_ksize[0],\n",
    "                                           conv_ksize[1],\n",
    "                                           x_tensor.get_shape().as_list()[-1], \n",
    "                                           conv_num_outputs],\n",
    "                                         stddev=0.1))\n",
    "    \n",
    "    bias = tf.Variable(tf.zeros(conv_num_outputs, \n",
    "                                dtype=tf.float32))\n",
    "\n",
    "    conv_layer = tf.nn.conv2d(x_tensor, \n",
    "                              weight, \n",
    "                              strides=[1, conv_strides[0], conv_strides[1], 1], \n",
    "                              padding='SAME')\n",
    "    \n",
    "    conv_layer = tf.nn.bias_add(conv_layer, bias)\n",
    "    \n",
    "    conv_layer = tf.nn.relu(conv_layer)\n",
    "    \n",
    "    conv_layer = tf.nn.max_pool(conv_layer, \n",
    "                                ksize=[1, pool_ksize[0], pool_ksize[1], 1], \n",
    "                                strides=[1, pool_strides[0], pool_strides[1], 1],\n",
    "                                padding='SAME')\n",
    "    \n",
    "    return conv_layer\n",
    "\n",
    "\n",
    "\"\"\"\n",
    "DON'T MODIFY ANYTHING IN THIS CELL THAT IS BELOW THIS LINE\n",
    "\"\"\"\n",
    "tests.test_con_pool(conv2d_maxpool)"
   ]
  },
  {
   "cell_type": "markdown",
   "metadata": {},
   "source": [
    "### Flatten Layer\n",
    "Implement the `flatten` function to change the dimension of `x_tensor` from a 4-D tensor to a 2-D tensor.  The output should be the shape (*Batch Size*, *Flattened Image Size*). Shortcut option: you can use classes from the [TensorFlow Layers](https://www.tensorflow.org/api_docs/python/tf/layers) or [TensorFlow Layers (contrib)](https://www.tensorflow.org/api_guides/python/contrib.layers) packages for this layer. For more of a challenge, only use other TensorFlow packages."
   ]
  },
  {
   "cell_type": "code",
   "execution_count": 14,
   "metadata": {
    "collapsed": false
   },
   "outputs": [
    {
     "name": "stdout",
     "output_type": "stream",
     "text": [
      "Tests Passed\n"
     ]
    }
   ],
   "source": [
    "def flatten(x_tensor):\n",
    "    \"\"\"\n",
    "    Flatten x_tensor to (Batch Size, Flattened Image Size)\n",
    "    : x_tensor: A tensor of size (Batch Size, ...), where ... are the image dimensions.\n",
    "    : return: A tensor of size (Batch Size, Flattened Image Size).\n",
    "    \"\"\"\n",
    "    # TODO: Implement Function\n",
    "    '''\n",
    "    https://www.tensorflow.org/api_docs/python/tf/contrib/layers/flatten\n",
    "    '''\n",
    "    super_flat = tf.contrib.layers.flatten(x_tensor)\n",
    "    return super_flat\n",
    "\n",
    "\n",
    "\"\"\"\n",
    "DON'T MODIFY ANYTHING IN THIS CELL THAT IS BELOW THIS LINE\n",
    "\"\"\"\n",
    "tests.test_flatten(flatten)"
   ]
  },
  {
   "cell_type": "markdown",
   "metadata": {},
   "source": [
    "### Fully-Connected Layer\n",
    "Implement the `fully_conn` function to apply a fully connected layer to `x_tensor` with the shape (*Batch Size*, *num_outputs*). Shortcut option: you can use classes from the [TensorFlow Layers](https://www.tensorflow.org/api_docs/python/tf/layers) or [TensorFlow Layers (contrib)](https://www.tensorflow.org/api_guides/python/contrib.layers) packages for this layer. For more of a challenge, only use other TensorFlow packages."
   ]
  },
  {
   "cell_type": "code",
   "execution_count": 16,
   "metadata": {
    "collapsed": false
   },
   "outputs": [
    {
     "name": "stdout",
     "output_type": "stream",
     "text": [
      "Tests Passed\n"
     ]
    }
   ],
   "source": [
    "def fully_conn(x_tensor, num_outputs):\n",
    "    \"\"\"\n",
    "    Apply a fully connected layer to x_tensor using weight and bias\n",
    "    : x_tensor: A 2-D tensor where the first dimension is batch size.\n",
    "    : num_outputs: The number of output that the new tensor should be.\n",
    "    : return: A 2-D tensor where the second dimension is num_outputs.\n",
    "    \"\"\"\n",
    "    # TODO: Implement Function\n",
    "    width = x_tensor.get_shape().as_list()[1]\n",
    "    weight = tf.Variable(tf.truncated_normal(([width, num_outputs]), stddev=0.1))\n",
    "    bias = tf.Variable(tf.zeros(num_outputs))\n",
    "    output = tf.add(tf.matmul(x_tensor, weight), bias)\n",
    "    relu = tf.nn.relu(output)\n",
    "    return relu\n",
    "\n",
    "\n",
    "\"\"\"\n",
    "DON'T MODIFY ANYTHING IN THIS CELL THAT IS BELOW THIS LINE\n",
    "\"\"\"\n",
    "tests.test_fully_conn(fully_conn)"
   ]
  },
  {
   "cell_type": "markdown",
   "metadata": {},
   "source": [
    "### Output Layer\n",
    "Implement the `output` function to apply a fully connected layer to `x_tensor` with the shape (*Batch Size*, *num_outputs*). Shortcut option: you can use classes from the [TensorFlow Layers](https://www.tensorflow.org/api_docs/python/tf/layers) or [TensorFlow Layers (contrib)](https://www.tensorflow.org/api_guides/python/contrib.layers) packages for this layer. For more of a challenge, only use other TensorFlow packages.\n",
    "\n",
    "**Note:** Activation, softmax, or cross entropy should **not** be applied to this."
   ]
  },
  {
   "cell_type": "code",
   "execution_count": 18,
   "metadata": {
    "collapsed": false
   },
   "outputs": [
    {
     "name": "stdout",
     "output_type": "stream",
     "text": [
      "Tests Passed\n"
     ]
    }
   ],
   "source": [
    "def output(x_tensor, num_outputs):\n",
    "    \"\"\"\n",
    "    Apply a output layer to x_tensor using weight and bias\n",
    "    : x_tensor: A 2-D tensor where the first dimension is batch size.\n",
    "    : num_outputs: The number of output that the new tensor should be.\n",
    "    : return: A 2-D tensor where the second dimension is num_outputs.\n",
    "    \"\"\"\n",
    "    # TODO: Implement Function\n",
    "    width = x_tensor.get_shape().as_list()[1]    \n",
    "    weight = tf.Variable(tf.truncated_normal([width, num_outputs], stddev=0.1))\n",
    "    bias = tf.Variable(tf.zeros(num_outputs))\n",
    "    \n",
    "    return tf.nn.bias_add(tf.matmul(x_tensor,weight), bias)\n",
    "\n",
    "\n",
    "\"\"\"\n",
    "DON'T MODIFY ANYTHING IN THIS CELL THAT IS BELOW THIS LINE\n",
    "\"\"\"\n",
    "tests.test_output(output)"
   ]
  },
  {
   "cell_type": "markdown",
   "metadata": {},
   "source": [
    "### Create Convolutional Model\n",
    "Implement the function `conv_net` to create a convolutional neural network model. The function takes in a batch of images, `x`, and outputs logits.  Use the layers you created above to create this model:\n",
    "\n",
    "* Apply 1, 2, or 3 Convolution and Max Pool layers\n",
    "* Apply a Flatten Layer\n",
    "* Apply 1, 2, or 3 Fully Connected Layers\n",
    "* Apply an Output Layer\n",
    "* Return the output\n",
    "* Apply [TensorFlow's Dropout](https://www.tensorflow.org/api_docs/python/tf/nn/dropout) to one or more layers in the model using `keep_prob`. "
   ]
  },
  {
   "cell_type": "code",
   "execution_count": 20,
   "metadata": {
    "collapsed": false
   },
   "outputs": [
    {
     "name": "stdout",
     "output_type": "stream",
     "text": [
      "Neural Network Built!\n"
     ]
    }
   ],
   "source": [
    "def conv_net(x, keep_prob):\n",
    "    \"\"\"\n",
    "    Create a convolutional neural network model\n",
    "    : x: Placeholder tensor that holds image data.\n",
    "    : keep_prob: Placeholder tensor that hold dropout keep probability.\n",
    "    : return: Tensor that represents logits\n",
    "    \"\"\"\n",
    "    \n",
    "    \n",
    "    # TODO: Apply 1, 2, or 3 Convolution and Max Pool layers\n",
    "    #    Play around with different number of outputs, kernel size and stride\n",
    "    # Function Definition from Above:\n",
    "    #    conv2d_maxpool(x_tensor, conv_num_outputs, conv_ksize, conv_strides, pool_ksize, pool_strides)\n",
    "    conv_l_1 = conv2d_maxpool(x, 32, * [(5, 5), (1, 1), (2, 2), (2, 2)])\n",
    "    conv_l_1 = tf.nn.dropout(conv_l_1, keep_prob)\n",
    "    \n",
    "    conv_l_2 = conv2d_maxpool(conv_l_1, 64, * [(5, 5), (1, 1), (2, 2), (2, 2)])\n",
    "    conv_l_2 = tf.nn.dropout(conv_l_2, keep_prob)\n",
    "    \n",
    "    conv_l_3 = conv2d_maxpool(conv_l_2, 128, * [(5, 5), (1, 1), (2, 2), (2, 2)])\n",
    "    conv_l_3 = tf.nn.dropout(conv_l_3, keep_prob)\n",
    "    \n",
    "    \n",
    "    \n",
    "    # TODO: Apply a Flatten Layer\n",
    "    # Function Definition from Above:\n",
    "    #   flatten(x_tensor)\n",
    "    flatten_l_1 = flatten(conv_l_3)\n",
    "\n",
    "    # Apply 1, 2, or 3 Fully Connected Layers\n",
    "    fully_conn_l_1 = fully_conn(flatten_l_1, 256)\n",
    "    fully_conn_l_1 = tf.nn.dropout(fully_conn_l_1, keep_prob)\n",
    "    fully_conn_l_2 = fully_conn(flatten_l_1, 512)\n",
    "    fully_conn_l_2 = tf.nn.dropout(fully_conn_l_2, keep_prob)\n",
    "    \n",
    "    \n",
    "    # TODO: Apply an Output Layer\n",
    "    #    Set this to the number of classes\n",
    "    # Function Definition from Above:\n",
    "    #   output(x_tensor, num_outputs)\n",
    "    \n",
    "    num_outputs = 10 # 10 labels_range!!!!!!!!! see above!!!!\n",
    "    \n",
    "    \n",
    "    # TODO: return output\n",
    "    return output(fully_conn_l_2, num_outputs)\n",
    "\n",
    "\n",
    "\"\"\"\n",
    "DON'T MODIFY ANYTHING IN THIS CELL THAT IS BELOW THIS LINE\n",
    "\"\"\"\n",
    "\n",
    "##############################\n",
    "## Build the Neural Network ##\n",
    "##############################\n",
    "\n",
    "# Remove previous weights, bias, inputs, etc..\n",
    "tf.reset_default_graph()\n",
    "\n",
    "# Inputs\n",
    "x = neural_net_image_input((32, 32, 3))\n",
    "y = neural_net_label_input(10)\n",
    "keep_prob = neural_net_keep_prob_input()\n",
    "\n",
    "# Model\n",
    "logits = conv_net(x, keep_prob)\n",
    "\n",
    "# Name logits Tensor, so that is can be loaded from disk after training\n",
    "logits = tf.identity(logits, name='logits')\n",
    "\n",
    "# Loss and Optimizer\n",
    "cost = tf.reduce_mean(tf.nn.softmax_cross_entropy_with_logits(logits=logits, labels=y))\n",
    "optimizer = tf.train.AdamOptimizer().minimize(cost)\n",
    "\n",
    "# Accuracy\n",
    "correct_pred = tf.equal(tf.argmax(logits, 1), tf.argmax(y, 1))\n",
    "accuracy = tf.reduce_mean(tf.cast(correct_pred, tf.float32), name='accuracy')\n",
    "\n",
    "tests.test_conv_net(conv_net)"
   ]
  },
  {
   "cell_type": "markdown",
   "metadata": {},
   "source": [
    "## Train the Neural Network\n",
    "### Single Optimization\n",
    "Implement the function `train_neural_network` to do a single optimization.  The optimization should use `optimizer` to optimize in `session` with a `feed_dict` of the following:\n",
    "* `x` for image input\n",
    "* `y` for labels\n",
    "* `keep_prob` for keep probability for dropout\n",
    "\n",
    "This function will be called for each batch, so `tf.global_variables_initializer()` has already been called.\n",
    "\n",
    "Note: Nothing needs to be returned. This function is only optimizing the neural network."
   ]
  },
  {
   "cell_type": "code",
   "execution_count": 21,
   "metadata": {
    "collapsed": false
   },
   "outputs": [
    {
     "name": "stdout",
     "output_type": "stream",
     "text": [
      "Tests Passed\n"
     ]
    }
   ],
   "source": [
    "def train_neural_network(session, optimizer, keep_probability, feature_batch, label_batch):\n",
    "    \"\"\"\n",
    "    Optimize the session on a batch of images and labels\n",
    "    : session: Current TensorFlow session\n",
    "    : optimizer: TensorFlow optimizer function\n",
    "    : keep_probability: keep probability\n",
    "    : feature_batch: Batch of Numpy image data\n",
    "    : label_batch: Batch of Numpy label data\n",
    "    \"\"\"\n",
    "    # TODO: Implement Function\n",
    "    session.run(optimizer, \n",
    "                feed_dict={x:feature_batch,\n",
    "                           y:label_batch,\n",
    "                           keep_prob:keep_probability})\n",
    "\n",
    "\n",
    "\"\"\"\n",
    "DON'T MODIFY ANYTHING IN THIS CELL THAT IS BELOW THIS LINE\n",
    "\"\"\"\n",
    "tests.test_train_nn(train_neural_network)"
   ]
  },
  {
   "cell_type": "markdown",
   "metadata": {},
   "source": [
    "### Show Stats\n",
    "Implement the function `print_stats` to print loss and validation accuracy.  Use the global variables `valid_features` and `valid_labels` to calculate validation accuracy.  Use a keep probability of `1.0` to calculate the loss and validation accuracy."
   ]
  },
  {
   "cell_type": "code",
   "execution_count": 25,
   "metadata": {
    "collapsed": false
   },
   "outputs": [],
   "source": [
    "from datetime import datetime\n",
    "def print_stats(session, feature_batch, label_batch, cost, accuracy):\n",
    "    \"\"\"\n",
    "    Print information about loss and validation accuracy\n",
    "    : session: Current TensorFlow session\n",
    "    : feature_batch: Batch of Numpy image data\n",
    "    : label_batch: Batch of Numpy label data\n",
    "    : cost: TensorFlow cost function\n",
    "    : accuracy: TensorFlow accuracy function\n",
    "    \"\"\"\n",
    "    # TODO: Implement Function\n",
    "    time_now = datetime.now()\n",
    "    loss = session.run(cost, feed_dict={x: feature_batch, y: label_batch, keep_prob: 1.0})\n",
    "    accuracy = session.run(accuracy, feed_dict={x: valid_features, y: valid_labels, keep_prob: 1.0})\n",
    "    print(\"The loss is: {} The Acccuracy is: {} And now it's: {}\".format(loss, accuracy, time_now))"
   ]
  },
  {
   "cell_type": "markdown",
   "metadata": {},
   "source": [
    "### Hyperparameters\n",
    "Tune the following parameters:\n",
    "* Set `epochs` to the number of iterations until the network stops learning or start overfitting\n",
    "* Set `batch_size` to the highest number that your machine has memory for.  Most people set them to common sizes of memory:\n",
    " * 64\n",
    " * 128\n",
    " * 256\n",
    " * ...\n",
    "* Set `keep_probability` to the probability of keeping a node using dropout"
   ]
  },
  {
   "cell_type": "code",
   "execution_count": 27,
   "metadata": {
    "collapsed": false
   },
   "outputs": [
    {
     "data": {
      "text/plain": [
       "\"\\namazing set up!!!!\\nthe only drawback is that it takes forever to finish not using my graphic card\\n=> have to start using it asap!!! \\nI'll reduce the batch size from 256 to 128\\n\""
      ]
     },
     "execution_count": 27,
     "metadata": {},
     "output_type": "execute_result"
    }
   ],
   "source": [
    "# TODO: Tune Parameters\n",
    "epochs = 30\n",
    "batch_size = 256\n",
    "keep_probability = 0.85\n",
    "'''\n",
    "amazing set up!!!!\n",
    "the only drawback is that it takes forever to finish not using my graphic card\n",
    "=> have to start using it asap!!! \n",
    "I'll reduce the batch size from 256 to 128\n",
    "'''"
   ]
  },
  {
   "cell_type": "markdown",
   "metadata": {},
   "source": [
    "### Train on a Single CIFAR-10 Batch\n",
    "Instead of training the neural network on all the CIFAR-10 batches of data, let's use a single batch. This should save time while you iterate on the model to get a better accuracy.  Once the final validation accuracy is 50% or greater, run the model on all the data in the next section."
   ]
  },
  {
   "cell_type": "code",
   "execution_count": 24,
   "metadata": {
    "collapsed": false
   },
   "outputs": [
    {
     "name": "stdout",
     "output_type": "stream",
     "text": [
      "Checking the Training on a Single Batch...\n",
      "Epoch  1, CIFAR-10 Batch 1:  The loss is: 2.23124623298645 The cccuracy is: 0.24819999933242798\n",
      "Epoch  2, CIFAR-10 Batch 1:  The loss is: 1.9991865158081055 The cccuracy is: 0.35100001096725464\n",
      "Epoch  3, CIFAR-10 Batch 1:  The loss is: 1.7591097354888916 The cccuracy is: 0.4059999883174896\n",
      "Epoch  4, CIFAR-10 Batch 1:  The loss is: 1.5533329248428345 The cccuracy is: 0.42820000648498535\n",
      "Epoch  5, CIFAR-10 Batch 1:  The loss is: 1.3262665271759033 The cccuracy is: 0.46880000829696655\n",
      "Epoch  6, CIFAR-10 Batch 1:  The loss is: 1.2382872104644775 The cccuracy is: 0.46959999203681946\n",
      "Epoch  7, CIFAR-10 Batch 1:  The loss is: 1.1572189331054688 The cccuracy is: 0.4860000014305115\n",
      "Epoch  8, CIFAR-10 Batch 1:  The loss is: 0.9560310244560242 The cccuracy is: 0.5026000142097473\n",
      "Epoch  9, CIFAR-10 Batch 1:  The loss is: 0.8435114026069641 The cccuracy is: 0.5134000182151794\n",
      "Epoch 10, CIFAR-10 Batch 1:  The loss is: 0.726988673210144 The cccuracy is: 0.521399974822998\n",
      "Epoch 11, CIFAR-10 Batch 1:  The loss is: 0.6771091818809509 The cccuracy is: 0.5281999707221985\n",
      "Epoch 12, CIFAR-10 Batch 1:  The loss is: 0.5818007588386536 The cccuracy is: 0.5343999862670898\n",
      "Epoch 13, CIFAR-10 Batch 1:  The loss is: 0.4776698052883148 The cccuracy is: 0.5514000058174133\n",
      "Epoch 14, CIFAR-10 Batch 1:  The loss is: 0.4310358166694641 The cccuracy is: 0.5618000030517578\n",
      "Epoch 15, CIFAR-10 Batch 1:  The loss is: 0.3809383511543274 The cccuracy is: 0.5515999794006348\n",
      "Epoch 16, CIFAR-10 Batch 1:  The loss is: 0.36166077852249146 The cccuracy is: 0.5699999928474426\n",
      "Epoch 17, CIFAR-10 Batch 1:  The loss is: 0.26502832770347595 The cccuracy is: 0.5666000247001648\n",
      "Epoch 18, CIFAR-10 Batch 1:  The loss is: 0.22140637040138245 The cccuracy is: 0.574400007724762\n",
      "Epoch 19, CIFAR-10 Batch 1:  The loss is: 0.22104665637016296 The cccuracy is: 0.5673999786376953\n",
      "Epoch 20, CIFAR-10 Batch 1:  The loss is: 0.17097660899162292 The cccuracy is: 0.5774000287055969\n",
      "Epoch 21, CIFAR-10 Batch 1:  The loss is: 0.1404019296169281 The cccuracy is: 0.5938000082969666\n",
      "Epoch 22, CIFAR-10 Batch 1:  The loss is: 0.13204000890254974 The cccuracy is: 0.5879999995231628\n",
      "Epoch 23, CIFAR-10 Batch 1:  The loss is: 0.1226915568113327 The cccuracy is: 0.5907999873161316\n",
      "Epoch 24, CIFAR-10 Batch 1:  The loss is: 0.08206689357757568 The cccuracy is: 0.5910000205039978\n",
      "Epoch 25, CIFAR-10 Batch 1:  The loss is: 0.07674612104892731 The cccuracy is: 0.5961999893188477\n",
      "Epoch 26, CIFAR-10 Batch 1:  The loss is: 0.05918920040130615 The cccuracy is: 0.5992000102996826\n",
      "Epoch 27, CIFAR-10 Batch 1:  The loss is: 0.06821886450052261 The cccuracy is: 0.5759999752044678\n",
      "Epoch 28, CIFAR-10 Batch 1:  The loss is: 0.06665673106908798 The cccuracy is: 0.5830000042915344\n",
      "Epoch 29, CIFAR-10 Batch 1:  The loss is: 0.04398401454091072 The cccuracy is: 0.5917999744415283\n",
      "Epoch 30, CIFAR-10 Batch 1:  The loss is: 0.06149701029062271 The cccuracy is: 0.5752000212669373\n"
     ]
    }
   ],
   "source": [
    "\"\"\"\n",
    "DON'T MODIFY ANYTHING IN THIS CELL\n",
    "\"\"\"\n",
    "print('Checking the Training on a Single Batch...')\n",
    "with tf.Session() as sess:\n",
    "    # Initializing the variables\n",
    "    sess.run(tf.global_variables_initializer())\n",
    "    \n",
    "    # Training cycle\n",
    "    for epoch in range(epochs):\n",
    "        batch_i = 1\n",
    "        for batch_features, batch_labels in helper.load_preprocess_training_batch(batch_i, batch_size):\n",
    "            train_neural_network(sess, optimizer, keep_probability, batch_features, batch_labels)\n",
    "        print('Epoch {:>2}, CIFAR-10 Batch {}:  '.format(epoch + 1, batch_i), end='')\n",
    "        print_stats(sess, batch_features, batch_labels, cost, accuracy)"
   ]
  },
  {
   "cell_type": "markdown",
   "metadata": {},
   "source": [
    "### Fully Train the Model\n",
    "Now that you got a good accuracy with a single CIFAR-10 batch, try it with all five batches."
   ]
  },
  {
   "cell_type": "code",
   "execution_count": 28,
   "metadata": {
    "collapsed": false
   },
   "outputs": [
    {
     "name": "stdout",
     "output_type": "stream",
     "text": [
      "Training...\n",
      "Epoch  1, CIFAR-10 Batch 1:  The loss is: 2.2166061401367188 The Acccuracy is: 0.22120000422000885 And now it's: 2017-05-18 18:36:41.832699\n",
      "Epoch  1, CIFAR-10 Batch 2:  The loss is: 1.9548851251602173 The Acccuracy is: 0.32280001044273376 And now it's: 2017-05-18 18:37:21.056718\n",
      "Epoch  1, CIFAR-10 Batch 3:  The loss is: 1.6891510486602783 The Acccuracy is: 0.3734000027179718 And now it's: 2017-05-18 18:38:00.367610\n",
      "Epoch  1, CIFAR-10 Batch 4:  The loss is: 1.6362533569335938 The Acccuracy is: 0.3977999985218048 And now it's: 2017-05-18 18:38:39.836624\n",
      "Epoch  1, CIFAR-10 Batch 5:  The loss is: 1.6709972620010376 The Acccuracy is: 0.43299999833106995 And now it's: 2017-05-18 18:39:19.261704\n",
      "Epoch  2, CIFAR-10 Batch 1:  The loss is: 1.760791540145874 The Acccuracy is: 0.46239998936653137 And now it's: 2017-05-18 18:39:58.433122\n",
      "Epoch  2, CIFAR-10 Batch 2:  The loss is: 1.4918131828308105 The Acccuracy is: 0.4668000042438507 And now it's: 2017-05-18 18:40:37.572686\n",
      "Epoch  2, CIFAR-10 Batch 3:  The loss is: 1.2915489673614502 The Acccuracy is: 0.45879998803138733 And now it's: 2017-05-18 18:41:16.886191\n",
      "Epoch  2, CIFAR-10 Batch 4:  The loss is: 1.3951661586761475 The Acccuracy is: 0.48579999804496765 And now it's: 2017-05-18 18:41:56.262629\n",
      "Epoch  2, CIFAR-10 Batch 5:  The loss is: 1.450455665588379 The Acccuracy is: 0.5099999904632568 And now it's: 2017-05-18 18:42:35.695738\n",
      "Epoch  3, CIFAR-10 Batch 1:  The loss is: 1.4731390476226807 The Acccuracy is: 0.5252000093460083 And now it's: 2017-05-18 18:43:15.298268\n",
      "Epoch  3, CIFAR-10 Batch 2:  The loss is: 1.2056217193603516 The Acccuracy is: 0.5116000175476074 And now it's: 2017-05-18 18:43:53.207023\n",
      "Epoch  3, CIFAR-10 Batch 3:  The loss is: 1.0517175197601318 The Acccuracy is: 0.5117999911308289 And now it's: 2017-05-18 18:44:32.812123\n",
      "Epoch  3, CIFAR-10 Batch 4:  The loss is: 1.2153522968292236 The Acccuracy is: 0.520799994468689 And now it's: 2017-05-18 18:45:11.882345\n",
      "Epoch  3, CIFAR-10 Batch 5:  The loss is: 1.190470814704895 The Acccuracy is: 0.5509999990463257 And now it's: 2017-05-18 18:45:51.314966\n",
      "Epoch  4, CIFAR-10 Batch 1:  The loss is: 1.175204873085022 The Acccuracy is: 0.5645999908447266 And now it's: 2017-05-18 18:46:30.586813\n",
      "Epoch  4, CIFAR-10 Batch 2:  The loss is: 1.0389089584350586 The Acccuracy is: 0.5591999888420105 And now it's: 2017-05-18 18:47:09.581450\n",
      "Epoch  4, CIFAR-10 Batch 3:  The loss is: 0.8476625680923462 The Acccuracy is: 0.5619999766349792 And now it's: 2017-05-18 18:47:48.509024\n",
      "Epoch  4, CIFAR-10 Batch 4:  The loss is: 1.0508382320404053 The Acccuracy is: 0.5658000111579895 And now it's: 2017-05-18 18:48:27.744936\n",
      "Epoch  4, CIFAR-10 Batch 5:  The loss is: 1.008427381515503 The Acccuracy is: 0.5784000158309937 And now it's: 2017-05-18 18:49:07.062403\n",
      "Epoch  5, CIFAR-10 Batch 1:  The loss is: 0.9805795550346375 The Acccuracy is: 0.5942000150680542 And now it's: 2017-05-18 18:49:45.540728\n",
      "Epoch  5, CIFAR-10 Batch 2:  The loss is: 0.8324947357177734 The Acccuracy is: 0.5961999893188477 And now it's: 2017-05-18 18:50:24.871080\n",
      "Epoch  5, CIFAR-10 Batch 3:  The loss is: 0.6848350763320923 The Acccuracy is: 0.59579998254776 And now it's: 2017-05-18 18:51:04.740575\n",
      "Epoch  5, CIFAR-10 Batch 4:  The loss is: 0.8802616000175476 The Acccuracy is: 0.5824000239372253 And now it's: 2017-05-18 18:51:43.762897\n",
      "Epoch  5, CIFAR-10 Batch 5:  The loss is: 0.7900427579879761 The Acccuracy is: 0.6212000250816345 And now it's: 2017-05-18 18:52:23.093458\n",
      "Epoch  6, CIFAR-10 Batch 1:  The loss is: 0.8556509017944336 The Acccuracy is: 0.6187999844551086 And now it's: 2017-05-18 18:53:01.852933\n",
      "Epoch  6, CIFAR-10 Batch 2:  The loss is: 0.6821161508560181 The Acccuracy is: 0.5965999960899353 And now it's: 2017-05-18 18:53:41.061301\n",
      "Epoch  6, CIFAR-10 Batch 3:  The loss is: 0.5525850057601929 The Acccuracy is: 0.6263999938964844 And now it's: 2017-05-18 18:54:20.239021\n",
      "Epoch  6, CIFAR-10 Batch 4:  The loss is: 0.7300098538398743 The Acccuracy is: 0.6190000176429749 And now it's: 2017-05-18 18:54:59.857027\n",
      "Epoch  6, CIFAR-10 Batch 5:  The loss is: 0.5989022254943848 The Acccuracy is: 0.6380000114440918 And now it's: 2017-05-18 18:55:38.397419\n",
      "Epoch  7, CIFAR-10 Batch 1:  The loss is: 0.724806010723114 The Acccuracy is: 0.6456000208854675 And now it's: 2017-05-18 18:56:17.427027\n",
      "Epoch  7, CIFAR-10 Batch 2:  The loss is: 0.6187533736228943 The Acccuracy is: 0.6155999898910522 And now it's: 2017-05-18 18:56:57.122092\n",
      "Epoch  7, CIFAR-10 Batch 3:  The loss is: 0.4448487162590027 The Acccuracy is: 0.6313999891281128 And now it's: 2017-05-18 18:57:36.457360\n",
      "Epoch  7, CIFAR-10 Batch 4:  The loss is: 0.5682922005653381 The Acccuracy is: 0.6444000005722046 And now it's: 2017-05-18 18:58:15.732206\n",
      "Epoch  7, CIFAR-10 Batch 5:  The loss is: 0.5395941734313965 The Acccuracy is: 0.6462000012397766 And now it's: 2017-05-18 18:58:53.968738\n",
      "Epoch  8, CIFAR-10 Batch 1:  The loss is: 0.6104665994644165 The Acccuracy is: 0.6456000208854675 And now it's: 2017-05-18 18:59:33.418301\n",
      "Epoch  8, CIFAR-10 Batch 2:  The loss is: 0.4883193075656891 The Acccuracy is: 0.6172000169754028 And now it's: 2017-05-18 19:00:13.423286\n",
      "Epoch  8, CIFAR-10 Batch 3:  The loss is: 0.4160861074924469 The Acccuracy is: 0.6452000141143799 And now it's: 2017-05-18 19:00:53.190140\n",
      "Epoch  8, CIFAR-10 Batch 4:  The loss is: 0.4980156421661377 The Acccuracy is: 0.6565999984741211 And now it's: 2017-05-18 19:01:32.507646\n",
      "Epoch  8, CIFAR-10 Batch 5:  The loss is: 0.4374437928199768 The Acccuracy is: 0.6636000275611877 And now it's: 2017-05-18 19:02:11.217985\n",
      "Epoch  9, CIFAR-10 Batch 1:  The loss is: 0.5060219764709473 The Acccuracy is: 0.6715999841690063 And now it's: 2017-05-18 19:02:50.159853\n",
      "Epoch  9, CIFAR-10 Batch 2:  The loss is: 0.3980775475502014 The Acccuracy is: 0.6448000073432922 And now it's: 2017-05-18 19:03:29.471783\n",
      "Epoch  9, CIFAR-10 Batch 3:  The loss is: 0.34210437536239624 The Acccuracy is: 0.6679999828338623 And now it's: 2017-05-18 19:04:07.796493\n",
      "Epoch  9, CIFAR-10 Batch 4:  The loss is: 0.397979199886322 The Acccuracy is: 0.6733999848365784 And now it's: 2017-05-18 19:04:46.982681\n",
      "Epoch  9, CIFAR-10 Batch 5:  The loss is: 0.3841753900051117 The Acccuracy is: 0.670799970626831 And now it's: 2017-05-18 19:05:26.208003\n",
      "Epoch 10, CIFAR-10 Batch 1:  The loss is: 0.39908403158187866 The Acccuracy is: 0.6687999963760376 And now it's: 2017-05-18 19:06:05.771469\n",
      "Epoch 10, CIFAR-10 Batch 2:  The loss is: 0.3337436318397522 The Acccuracy is: 0.6705999970436096 And now it's: 2017-05-18 19:06:44.494279\n",
      "Epoch 10, CIFAR-10 Batch 3:  The loss is: 0.3190975487232208 The Acccuracy is: 0.6697999835014343 And now it's: 2017-05-18 19:07:24.199720\n",
      "Epoch 10, CIFAR-10 Batch 4:  The loss is: 0.3054308295249939 The Acccuracy is: 0.675599992275238 And now it's: 2017-05-18 19:08:03.592918\n",
      "Epoch 10, CIFAR-10 Batch 5:  The loss is: 0.3023415803909302 The Acccuracy is: 0.6872000098228455 And now it's: 2017-05-18 19:08:41.809144\n",
      "Epoch 11, CIFAR-10 Batch 1:  The loss is: 0.3380952477455139 The Acccuracy is: 0.6827999949455261 And now it's: 2017-05-18 19:09:21.024979\n",
      "Epoch 11, CIFAR-10 Batch 2:  The loss is: 0.28627699613571167 The Acccuracy is: 0.6800000071525574 And now it's: 2017-05-18 19:10:00.269487\n",
      "Epoch 11, CIFAR-10 Batch 3:  The loss is: 0.23902420699596405 The Acccuracy is: 0.6940000057220459 And now it's: 2017-05-18 19:10:39.700678\n",
      "Epoch 11, CIFAR-10 Batch 4:  The loss is: 0.262265682220459 The Acccuracy is: 0.6923999786376953 And now it's: 2017-05-18 19:11:18.844196\n",
      "Epoch 11, CIFAR-10 Batch 5:  The loss is: 0.20875930786132812 The Acccuracy is: 0.6898000240325928 And now it's: 2017-05-18 19:11:58.039233\n",
      "Epoch 12, CIFAR-10 Batch 1:  The loss is: 0.2792540192604065 The Acccuracy is: 0.6823999881744385 And now it's: 2017-05-18 19:12:37.369888\n",
      "Epoch 12, CIFAR-10 Batch 2:  The loss is: 0.20480385422706604 The Acccuracy is: 0.6827999949455261 And now it's: 2017-05-18 19:13:16.452799\n",
      "Epoch 12, CIFAR-10 Batch 3:  The loss is: 0.2168152779340744 The Acccuracy is: 0.6944000124931335 And now it's: 2017-05-18 19:13:55.594082\n",
      "Epoch 12, CIFAR-10 Batch 4:  The loss is: 0.2199530154466629 The Acccuracy is: 0.7017999887466431 And now it's: 2017-05-18 19:14:34.584896\n",
      "Epoch 12, CIFAR-10 Batch 5:  The loss is: 0.18143363296985626 The Acccuracy is: 0.6980000138282776 And now it's: 2017-05-18 19:15:13.796285\n",
      "Epoch 13, CIFAR-10 Batch 1:  The loss is: 0.2573755979537964 The Acccuracy is: 0.6953999996185303 And now it's: 2017-05-18 19:15:52.475277\n",
      "Epoch 13, CIFAR-10 Batch 2:  The loss is: 0.1831977367401123 The Acccuracy is: 0.6959999799728394 And now it's: 2017-05-18 19:16:31.867505\n",
      "Epoch 13, CIFAR-10 Batch 3:  The loss is: 0.19144542515277863 The Acccuracy is: 0.7013999819755554 And now it's: 2017-05-18 19:17:10.721433\n",
      "Epoch 13, CIFAR-10 Batch 4:  The loss is: 0.17818255722522736 The Acccuracy is: 0.7107999920845032 And now it's: 2017-05-18 19:17:48.703754\n",
      "Epoch 13, CIFAR-10 Batch 5:  The loss is: 0.17044015228748322 The Acccuracy is: 0.6970000267028809 And now it's: 2017-05-18 19:18:27.847111\n",
      "Epoch 14, CIFAR-10 Batch 1:  The loss is: 0.16302385926246643 The Acccuracy is: 0.7093999981880188 And now it's: 2017-05-18 19:19:07.245490\n",
      "Epoch 14, CIFAR-10 Batch 2:  The loss is: 0.12207838147878647 The Acccuracy is: 0.7052000164985657 And now it's: 2017-05-18 19:19:46.741668\n",
      "Epoch 14, CIFAR-10 Batch 3:  The loss is: 0.15146639943122864 The Acccuracy is: 0.7006000280380249 And now it's: 2017-05-18 19:20:25.910217\n",
      "Epoch 14, CIFAR-10 Batch 4:  The loss is: 0.14290300011634827 The Acccuracy is: 0.7131999731063843 And now it's: 2017-05-18 19:21:05.181234\n",
      "Epoch 14, CIFAR-10 Batch 5:  The loss is: 0.12188659608364105 The Acccuracy is: 0.7038000226020813 And now it's: 2017-05-18 19:21:44.913124\n",
      "Epoch 15, CIFAR-10 Batch 1:  The loss is: 0.13946621119976044 The Acccuracy is: 0.7113999724388123 And now it's: 2017-05-18 19:22:24.223733\n",
      "Epoch 15, CIFAR-10 Batch 2:  The loss is: 0.12414983659982681 The Acccuracy is: 0.7152000069618225 And now it's: 2017-05-18 19:23:03.667018\n",
      "Epoch 15, CIFAR-10 Batch 3:  The loss is: 0.08633525669574738 The Acccuracy is: 0.7215999960899353 And now it's: 2017-05-18 19:23:42.681132\n",
      "Epoch 15, CIFAR-10 Batch 4:  The loss is: 0.10131502151489258 The Acccuracy is: 0.7233999967575073 And now it's: 2017-05-18 19:24:21.960787\n",
      "Epoch 15, CIFAR-10 Batch 5:  The loss is: 0.1062735915184021 The Acccuracy is: 0.7113999724388123 And now it's: 2017-05-18 19:25:01.171363\n",
      "Epoch 16, CIFAR-10 Batch 1:  The loss is: 0.1381099969148636 The Acccuracy is: 0.7265999913215637 And now it's: 2017-05-18 19:25:39.648182\n",
      "Epoch 16, CIFAR-10 Batch 2:  The loss is: 0.09857745468616486 The Acccuracy is: 0.7156000137329102 And now it's: 2017-05-18 19:26:18.829219\n",
      "Epoch 16, CIFAR-10 Batch 3:  The loss is: 0.0970306470990181 The Acccuracy is: 0.722000002861023 And now it's: 2017-05-18 19:26:58.353312\n",
      "Epoch 16, CIFAR-10 Batch 4:  The loss is: 0.0834832638502121 The Acccuracy is: 0.7239999771118164 And now it's: 2017-05-18 19:27:37.824654\n",
      "Epoch 16, CIFAR-10 Batch 5:  The loss is: 0.07662936300039291 The Acccuracy is: 0.7161999940872192 And now it's: 2017-05-18 19:28:16.990365\n",
      "Epoch 17, CIFAR-10 Batch 1:  The loss is: 0.13066308200359344 The Acccuracy is: 0.7264000177383423 And now it's: 2017-05-18 19:28:56.401146\n",
      "Epoch 17, CIFAR-10 Batch 2:  The loss is: 0.07927794754505157 The Acccuracy is: 0.72079998254776 And now it's: 2017-05-18 19:29:35.403149\n",
      "Epoch 17, CIFAR-10 Batch 3:  The loss is: 0.07781282812356949 The Acccuracy is: 0.718999981880188 And now it's: 2017-05-18 19:30:14.822666\n",
      "Epoch 17, CIFAR-10 Batch 4:  The loss is: 0.07974936068058014 The Acccuracy is: 0.7271999716758728 And now it's: 2017-05-18 19:30:54.265106\n",
      "Epoch 17, CIFAR-10 Batch 5:  The loss is: 0.06229104846715927 The Acccuracy is: 0.7228000164031982 And now it's: 2017-05-18 19:31:34.094688\n",
      "Epoch 18, CIFAR-10 Batch 1:  The loss is: 0.08686604350805283 The Acccuracy is: 0.7264000177383423 And now it's: 2017-05-18 19:32:13.424267\n",
      "Epoch 18, CIFAR-10 Batch 2:  The loss is: 0.06953708082437515 The Acccuracy is: 0.7192000150680542 And now it's: 2017-05-18 19:32:52.675202\n",
      "Epoch 18, CIFAR-10 Batch 3:  The loss is: 0.04695575684309006 The Acccuracy is: 0.7275999784469604 And now it's: 2017-05-18 19:33:30.761234\n",
      "Epoch 18, CIFAR-10 Batch 4:  The loss is: 0.0707419216632843 The Acccuracy is: 0.7342000007629395 And now it's: 2017-05-18 19:34:09.755852\n",
      "Epoch 18, CIFAR-10 Batch 5:  The loss is: 0.06142225116491318 The Acccuracy is: 0.7211999893188477 And now it's: 2017-05-18 19:34:48.866452\n",
      "Epoch 19, CIFAR-10 Batch 1:  The loss is: 0.07027485221624374 The Acccuracy is: 0.7414000034332275 And now it's: 2017-05-18 19:35:28.188292\n",
      "Epoch 19, CIFAR-10 Batch 2:  The loss is: 0.06576452404260635 The Acccuracy is: 0.7235999703407288 And now it's: 2017-05-18 19:36:07.437053\n",
      "Epoch 19, CIFAR-10 Batch 3:  The loss is: 0.04121984913945198 The Acccuracy is: 0.7342000007629395 And now it's: 2017-05-18 19:36:46.242963\n",
      "Epoch 19, CIFAR-10 Batch 4:  The loss is: 0.05181128904223442 The Acccuracy is: 0.7386000156402588 And now it's: 2017-05-18 19:37:24.953236\n",
      "Epoch 19, CIFAR-10 Batch 5:  The loss is: 0.04184703528881073 The Acccuracy is: 0.7325999736785889 And now it's: 2017-05-18 19:38:04.017992\n",
      "Epoch 20, CIFAR-10 Batch 1:  The loss is: 0.08388370275497437 The Acccuracy is: 0.7343999743461609 And now it's: 2017-05-18 19:38:43.360285\n",
      "Epoch 20, CIFAR-10 Batch 2:  The loss is: 0.05569760873913765 The Acccuracy is: 0.7265999913215637 And now it's: 2017-05-18 19:39:22.152408\n",
      "Epoch 20, CIFAR-10 Batch 3:  The loss is: 0.039998941123485565 The Acccuracy is: 0.7260000109672546 And now it's: 2017-05-18 19:40:01.630739\n",
      "Epoch 20, CIFAR-10 Batch 4:  The loss is: 0.06277463585138321 The Acccuracy is: 0.7364000082015991 And now it's: 2017-05-18 19:40:40.177329\n",
      "Epoch 20, CIFAR-10 Batch 5:  The loss is: 0.0340706966817379 The Acccuracy is: 0.723800003528595 And now it's: 2017-05-18 19:41:19.717247\n",
      "Epoch 21, CIFAR-10 Batch 1:  The loss is: 0.04800865426659584 The Acccuracy is: 0.7314000129699707 And now it's: 2017-05-18 19:41:59.721188\n",
      "Epoch 21, CIFAR-10 Batch 2:  The loss is: 0.056893300265073776 The Acccuracy is: 0.7239999771118164 And now it's: 2017-05-18 19:42:39.223147\n",
      "Epoch 21, CIFAR-10 Batch 3:  The loss is: 0.05326563119888306 The Acccuracy is: 0.7107999920845032 And now it's: 2017-05-18 19:43:17.900287\n",
      "Epoch 21, CIFAR-10 Batch 4:  The loss is: 0.042425550520420074 The Acccuracy is: 0.7336000204086304 And now it's: 2017-05-18 19:43:57.459124\n",
      "Epoch 21, CIFAR-10 Batch 5:  The loss is: 0.03418046981096268 The Acccuracy is: 0.732200026512146 And now it's: 2017-05-18 19:44:36.940087\n",
      "Epoch 22, CIFAR-10 Batch 1:  The loss is: 0.05111144855618477 The Acccuracy is: 0.7332000136375427 And now it's: 2017-05-18 19:45:15.734275\n",
      "Epoch 22, CIFAR-10 Batch 2:  The loss is: 0.03759375959634781 The Acccuracy is: 0.734000027179718 And now it's: 2017-05-18 19:45:54.700210\n",
      "Epoch 22, CIFAR-10 Batch 3:  The loss is: 0.025467876344919205 The Acccuracy is: 0.72079998254776 And now it's: 2017-05-18 19:46:34.153365\n",
      "Epoch 22, CIFAR-10 Batch 4:  The loss is: 0.04065617173910141 The Acccuracy is: 0.7455999851226807 And now it's: 2017-05-18 19:47:13.417482\n",
      "Epoch 22, CIFAR-10 Batch 5:  The loss is: 0.021728184074163437 The Acccuracy is: 0.7265999913215637 And now it's: 2017-05-18 19:47:53.097787\n",
      "Epoch 23, CIFAR-10 Batch 1:  The loss is: 0.036050185561180115 The Acccuracy is: 0.7307999730110168 And now it's: 2017-05-18 19:48:32.783020\n",
      "Epoch 23, CIFAR-10 Batch 2:  The loss is: 0.03024187684059143 The Acccuracy is: 0.7450000047683716 And now it's: 2017-05-18 19:49:12.315241\n",
      "Epoch 23, CIFAR-10 Batch 3:  The loss is: 0.041467051953077316 The Acccuracy is: 0.699400007724762 And now it's: 2017-05-18 19:49:51.764890\n",
      "Epoch 23, CIFAR-10 Batch 4:  The loss is: 0.038313884288072586 The Acccuracy is: 0.7418000102043152 And now it's: 2017-05-18 19:50:31.601910\n",
      "Epoch 23, CIFAR-10 Batch 5:  The loss is: 0.01706879399716854 The Acccuracy is: 0.7437999844551086 And now it's: 2017-05-18 19:51:10.938799\n",
      "Epoch 24, CIFAR-10 Batch 1:  The loss is: 0.03956606984138489 The Acccuracy is: 0.7458000183105469 And now it's: 2017-05-18 19:51:50.244099\n",
      "Epoch 24, CIFAR-10 Batch 2:  The loss is: 0.03712986037135124 The Acccuracy is: 0.7383999824523926 And now it's: 2017-05-18 19:52:33.279706\n",
      "Epoch 24, CIFAR-10 Batch 3:  The loss is: 0.017535334452986717 The Acccuracy is: 0.7325999736785889 And now it's: 2017-05-18 19:53:12.514455\n",
      "Epoch 24, CIFAR-10 Batch 4:  The loss is: 0.02726249024271965 The Acccuracy is: 0.746399998664856 And now it's: 2017-05-18 19:53:51.401901\n",
      "Epoch 24, CIFAR-10 Batch 5:  The loss is: 0.014742881059646606 The Acccuracy is: 0.745199978351593 And now it's: 2017-05-18 19:54:30.671161\n",
      "Epoch 25, CIFAR-10 Batch 1:  The loss is: 0.026117954403162003 The Acccuracy is: 0.7376000285148621 And now it's: 2017-05-18 19:55:09.192498\n",
      "Epoch 25, CIFAR-10 Batch 2:  The loss is: 0.018369775265455246 The Acccuracy is: 0.7383999824523926 And now it's: 2017-05-18 19:55:47.447493\n",
      "Epoch 25, CIFAR-10 Batch 3:  The loss is: 0.011740265414118767 The Acccuracy is: 0.7391999959945679 And now it's: 2017-05-18 19:56:26.840334\n",
      "Epoch 25, CIFAR-10 Batch 4:  The loss is: 0.02143172174692154 The Acccuracy is: 0.7491999864578247 And now it's: 2017-05-18 19:57:05.922402\n",
      "Epoch 25, CIFAR-10 Batch 5:  The loss is: 0.012399534694850445 The Acccuracy is: 0.7419999837875366 And now it's: 2017-05-18 19:57:45.209191\n",
      "Epoch 26, CIFAR-10 Batch 1:  The loss is: 0.02787427231669426 The Acccuracy is: 0.7318000197410583 And now it's: 2017-05-18 19:58:24.398809\n",
      "Epoch 26, CIFAR-10 Batch 2:  The loss is: 0.012505283579230309 The Acccuracy is: 0.7462000250816345 And now it's: 2017-05-18 19:59:03.689009\n",
      "Epoch 26, CIFAR-10 Batch 3:  The loss is: 0.01152697391808033 The Acccuracy is: 0.7268000245094299 And now it's: 2017-05-18 19:59:42.545669\n",
      "Epoch 26, CIFAR-10 Batch 4:  The loss is: 0.024160370230674744 The Acccuracy is: 0.7516000270843506 And now it's: 2017-05-18 20:00:21.811941\n",
      "Epoch 26, CIFAR-10 Batch 5:  The loss is: 0.010742850601673126 The Acccuracy is: 0.7468000054359436 And now it's: 2017-05-18 20:01:01.273550\n",
      "Epoch 27, CIFAR-10 Batch 1:  The loss is: 0.024561192840337753 The Acccuracy is: 0.7386000156402588 And now it's: 2017-05-18 20:01:39.739536\n",
      "Epoch 27, CIFAR-10 Batch 2:  The loss is: 0.01189045887440443 The Acccuracy is: 0.7494000196456909 And now it's: 2017-05-18 20:02:18.808815\n",
      "Epoch 27, CIFAR-10 Batch 3:  The loss is: 0.0072470130398869514 The Acccuracy is: 0.741599977016449 And now it's: 2017-05-18 20:02:57.895766\n",
      "Epoch 27, CIFAR-10 Batch 4:  The loss is: 0.015022626146674156 The Acccuracy is: 0.7445999979972839 And now it's: 2017-05-18 20:03:37.278295\n",
      "Epoch 27, CIFAR-10 Batch 5:  The loss is: 0.010444623418152332 The Acccuracy is: 0.745199978351593 And now it's: 2017-05-18 20:04:16.472432\n",
      "Epoch 28, CIFAR-10 Batch 1:  The loss is: 0.020895356312394142 The Acccuracy is: 0.743399977684021 And now it's: 2017-05-18 20:04:55.286140\n",
      "Epoch 28, CIFAR-10 Batch 2:  The loss is: 0.005702379159629345 The Acccuracy is: 0.7437999844551086 And now it's: 2017-05-18 20:05:34.560495\n",
      "Epoch 28, CIFAR-10 Batch 3:  The loss is: 0.007240822073072195 The Acccuracy is: 0.7400000095367432 And now it's: 2017-05-18 20:06:13.153557\n",
      "Epoch 28, CIFAR-10 Batch 4:  The loss is: 0.01105549931526184 The Acccuracy is: 0.746999979019165 And now it's: 2017-05-18 20:06:52.775601\n",
      "Epoch 28, CIFAR-10 Batch 5:  The loss is: 0.007127971854060888 The Acccuracy is: 0.7419999837875366 And now it's: 2017-05-18 20:07:31.939948\n",
      "Epoch 29, CIFAR-10 Batch 1:  The loss is: 0.01964733377099037 The Acccuracy is: 0.7552000284194946 And now it's: 2017-05-18 20:08:10.924341\n",
      "Epoch 29, CIFAR-10 Batch 2:  The loss is: 0.005873166956007481 The Acccuracy is: 0.7426000237464905 And now it's: 2017-05-18 20:08:49.270155\n",
      "Epoch 29, CIFAR-10 Batch 3:  The loss is: 0.006877063307911158 The Acccuracy is: 0.7512000203132629 And now it's: 2017-05-18 20:09:28.500081\n",
      "Epoch 29, CIFAR-10 Batch 4:  The loss is: 0.010553976520895958 The Acccuracy is: 0.7405999898910522 And now it's: 2017-05-18 20:10:07.598937\n",
      "Epoch 29, CIFAR-10 Batch 5:  The loss is: 0.011691747233271599 The Acccuracy is: 0.748199999332428 And now it's: 2017-05-18 20:10:46.894344\n",
      "Epoch 30, CIFAR-10 Batch 1:  The loss is: 0.007893146947026253 The Acccuracy is: 0.756600022315979 And now it's: 2017-05-18 20:11:25.208089\n",
      "Epoch 30, CIFAR-10 Batch 2:  The loss is: 0.012974184937775135 The Acccuracy is: 0.7342000007629395 And now it's: 2017-05-18 20:12:04.587452\n",
      "Epoch 30, CIFAR-10 Batch 3:  The loss is: 0.00628411490470171 The Acccuracy is: 0.7447999715805054 And now it's: 2017-05-18 20:12:43.509060\n",
      "Epoch 30, CIFAR-10 Batch 4:  The loss is: 0.00740944454446435 The Acccuracy is: 0.7490000128746033 And now it's: 2017-05-18 20:13:22.741965\n",
      "Epoch 30, CIFAR-10 Batch 5:  The loss is: 0.0102588701993227 The Acccuracy is: 0.727400004863739 And now it's: 2017-05-18 20:14:01.588987\n"
     ]
    }
   ],
   "source": [
    "\"\"\"\n",
    "DON'T MODIFY ANYTHING IN THIS CELL\n",
    "\"\"\"\n",
    "save_model_path = './image_classification'\n",
    "\n",
    "print('Training...')\n",
    "with tf.Session() as sess:\n",
    "    # Initializing the variables\n",
    "    sess.run(tf.global_variables_initializer())\n",
    "    \n",
    "    # Training cycle\n",
    "    for epoch in range(epochs):\n",
    "        # Loop over all batches\n",
    "        n_batches = 5\n",
    "        for batch_i in range(1, n_batches + 1):\n",
    "            for batch_features, batch_labels in helper.load_preprocess_training_batch(batch_i, batch_size):\n",
    "                train_neural_network(sess, optimizer, keep_probability, batch_features, batch_labels)\n",
    "            print('Epoch {:>2}, CIFAR-10 Batch {}:  '.format(epoch + 1, batch_i), end='')\n",
    "            print_stats(sess, batch_features, batch_labels, cost, accuracy)\n",
    "            \n",
    "    # Save Model\n",
    "    saver = tf.train.Saver()\n",
    "    save_path = saver.save(sess, save_model_path)"
   ]
  },
  {
   "cell_type": "markdown",
   "metadata": {},
   "source": [
    "# Checkpoint\n",
    "The model has been saved to disk.\n",
    "## Test Model\n",
    "Test your model against the test dataset.  This will be your final accuracy. You should have an accuracy greater than 50%. If you don't, keep tweaking the model architecture and parameters."
   ]
  },
  {
   "cell_type": "code",
   "execution_count": 30,
   "metadata": {
    "collapsed": false
   },
   "outputs": [
    {
     "name": "stdout",
     "output_type": "stream",
     "text": [
      "INFO:tensorflow:Restoring parameters from ./image_classification\n",
      "Testing Accuracy: 0.71455078125\n",
      "\n"
     ]
    },
    {
     "data": {
      "image/png": "[encoded data removed]",
      "text/plain": [
       "<matplotlib.figure.Figure at 0x12d28cf28>"
      ]
     },
     "metadata": {
      "image/png": {
       "height": 319,
       "width": 355
      }
     },
     "output_type": "display_data"
    }
   ],
   "source": [
    "\"\"\"\n",
    "DON'T MODIFY ANYTHING IN THIS CELL\n",
    "\"\"\"\n",
    "%matplotlib inline\n",
    "%config InlineBackend.figure_format = 'retina'\n",
    "\n",
    "import tensorflow as tf\n",
    "import pickle\n",
    "import helper\n",
    "import random\n",
    "\n",
    "# Set batch size if not already set\n",
    "try:\n",
    "    if batch_size:\n",
    "        pass\n",
    "except NameError:\n",
    "    batch_size = 64\n",
    "\n",
    "save_model_path = './image_classification'\n",
    "n_samples = 4\n",
    "top_n_predictions = 3\n",
    "\n",
    "def test_model():\n",
    "    \"\"\"\n",
    "    Test the saved model against the test dataset\n",
    "    \"\"\"\n",
    "\n",
    "    test_features, test_labels = pickle.load(open('preprocess_test.p', mode='rb'))\n",
    "    loaded_graph = tf.Graph()\n",
    "\n",
    "    with tf.Session(graph=loaded_graph) as sess:\n",
    "        # Load model\n",
    "        loader = tf.train.import_meta_graph(save_model_path + '.meta')\n",
    "        loader.restore(sess, save_model_path)\n",
    "\n",
    "        # Get Tensors from loaded model\n",
    "        loaded_x = loaded_graph.get_tensor_by_name('x:0')\n",
    "        loaded_y = loaded_graph.get_tensor_by_name('y:0')\n",
    "        loaded_keep_prob = loaded_graph.get_tensor_by_name('keep_prob:0')\n",
    "        loaded_logits = loaded_graph.get_tensor_by_name('logits:0')\n",
    "        loaded_acc = loaded_graph.get_tensor_by_name('accuracy:0')\n",
    "        \n",
    "        # Get accuracy in batches for memory limitations\n",
    "        test_batch_acc_total = 0\n",
    "        test_batch_count = 0\n",
    "        \n",
    "        for test_feature_batch, test_label_batch in helper.batch_features_labels(test_features, test_labels, batch_size):\n",
    "            test_batch_acc_total += sess.run(\n",
    "                loaded_acc,\n",
    "                feed_dict={loaded_x: test_feature_batch, loaded_y: test_label_batch, loaded_keep_prob: 1.0})\n",
    "            test_batch_count += 1\n",
    "\n",
    "        print('Testing Accuracy: {}\\n'.format(test_batch_acc_total/test_batch_count))\n",
    "\n",
    "        # Print Random Samples\n",
    "        random_test_features, random_test_labels = tuple(zip(*random.sample(list(zip(test_features, test_labels)), n_samples)))\n",
    "        random_test_predictions = sess.run(\n",
    "            tf.nn.top_k(tf.nn.softmax(loaded_logits), top_n_predictions),\n",
    "            feed_dict={loaded_x: random_test_features, loaded_y: random_test_labels, loaded_keep_prob: 1.0})\n",
    "        helper.display_image_predictions(random_test_features, random_test_labels, random_test_predictions)\n",
    "\n",
    "\n",
    "test_model()"
   ]
  },
  {
   "cell_type": "markdown",
   "metadata": {},
   "source": [
    "## Why 50-80% Accuracy?\n",
    "You might be wondering why you can't get an accuracy any higher. First things first, 50% isn't bad for a simple CNN.  Pure guessing would get you 10% accuracy. However, you might notice people are getting scores [well above 80%](http://rodrigob.github.io/are_we_there_yet/build/classification_datasets_results.html#43494641522d3130).  That's because we haven't taught you all there is to know about neural networks. We still need to cover a few more techniques.\n",
    "## Submitting This Project\n",
    "When submitting this project, make sure to run all the cells before saving the notebook.  Save the notebook file as \"dlnd_image_classification.ipynb\" and save it as a HTML file under \"File\" -> \"Download as\".  Include the \"helper.py\" and \"problem_unittests.py\" files in your submission."
   ]
  }
 ],
 "metadata": {
  "anaconda-cloud": {},
  "kernelspec": {
   "display_name": "Python [conda env:image_classification]",
   "language": "python",
   "name": "conda-env-image_classification-py"
  },
  "language_info": {
   "codemirror_mode": {
    "name": "ipython",
    "version": 3
   },
   "file_extension": ".py",
   "mimetype": "text/x-python",
   "name": "python",
   "nbconvert_exporter": "python",
   "pygments_lexer": "ipython3",
   "version": "3.6.1"
  }
 },
 "nbformat": 4,
 "nbformat_minor": 0
}
